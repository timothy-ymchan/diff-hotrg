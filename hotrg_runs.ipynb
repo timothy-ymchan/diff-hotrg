{
 "cells": [
  {
   "cell_type": "code",
   "execution_count": 1,
   "metadata": {},
   "outputs": [
    {
     "data": {
      "text/plain": [
       "<module 'hotrg_torch' from 'c:\\\\Users\\\\timot\\\\OneDrive - The Chinese University of Hong Kong\\\\Desktop\\\\misc trash\\\\diff-hotrg\\\\hotrg_torch.py'>"
      ]
     },
     "execution_count": 1,
     "metadata": {},
     "output_type": "execute_result"
    }
   ],
   "source": [
    "import importlib\n",
    "import torch\n",
    "import models\n",
    "import hotrg_torch\n",
    "from opt_einsum import contract\n",
    "importlib.reload(models)\n",
    "importlib.reload(hotrg_torch)\n"
   ]
  },
  {
   "cell_type": "code",
   "execution_count": 2,
   "metadata": {},
   "outputs": [
    {
     "data": {
      "text/plain": [
       "'cuda'"
      ]
     },
     "execution_count": 2,
     "metadata": {},
     "output_type": "execute_result"
    }
   ],
   "source": [
    "device = \"cuda\" if torch.cuda.is_available() else \"cpu\"\n",
    "device"
   ]
  },
  {
   "cell_type": "code",
   "execution_count": 3,
   "metadata": {},
   "outputs": [
    {
     "data": {
      "text/plain": [
       "device(type='cuda', index=0)"
      ]
     },
     "execution_count": 3,
     "metadata": {},
     "output_type": "execute_result"
    }
   ],
   "source": [
    "#torch.set_default_dtype(torch.float64)\n",
    "torch.set_default_device(device)\n",
    "torch.get_default_device()"
   ]
  },
  {
   "cell_type": "code",
   "execution_count": null,
   "metadata": {},
   "outputs": [
    {
     "name": "stderr",
     "output_type": "stream",
     "text": [
      "C:\\Users\\timot\\AppData\\Local\\Temp\\ipykernel_70180\\2273115642.py:5: UserWarning: Anomaly Detection has been enabled. This mode will increase the runtime and should only be enabled for debugging.\n",
      "  with torch.autograd.detect_anomaly():\n"
     ]
    },
    {
     "name": "stdout",
     "output_type": "stream",
     "text": [
      "Renormalizing Ising2D\n",
      "Current lattice size: 1\tCurrent iterations: 0\n",
      "Saving checkpoints every 5 steps\n",
      "Checkpoint will in saved at ./Ising2D-chi10-T_1.81535.pt\n",
      "Printing logs every 10 steps\n",
      "Iteration:  0 RG lnZ:  tensor([2.5181], device='cuda:0', grad_fn=<DivBackward0>) Theory lnZ:  tensor([1.1176], device='cuda:0') % Error:  tensor([55.6176], device='cuda:0', grad_fn=<DivBackward0>)\n",
      "Iteration:  10 RG lnZ:  tensor([1.1183], device='cuda:0', grad_fn=<DivBackward0>) Theory lnZ:  tensor([1.1176], device='cuda:0') % Error:  tensor([0.0605], device='cuda:0', grad_fn=<DivBackward0>)\n",
      "Iteration:  20 RG lnZ:  tensor([1.1176], device='cuda:0', grad_fn=<DivBackward0>) Theory lnZ:  tensor([1.1176], device='cuda:0') % Error:  tensor([1.0667e-05], device='cuda:0', grad_fn=<DivBackward0>)\n",
      "Iteration:  30 RG lnZ:  tensor([1.1176], device='cuda:0', grad_fn=<DivBackward0>) Theory lnZ:  tensor([1.1176], device='cuda:0') % Error:  tensor([5.3334e-05], device='cuda:0', grad_fn=<DivBackward0>)\n",
      "Iteration:  40 RG lnZ:  tensor([1.1176], device='cuda:0', grad_fn=<DivBackward0>) Theory lnZ:  tensor([1.1176], device='cuda:0') % Error:  tensor([5.3334e-05], device='cuda:0', grad_fn=<DivBackward0>)\n",
      "Iteration:  50 RG lnZ:  tensor([1.1176], device='cuda:0', grad_fn=<DivBackward0>) Theory lnZ:  tensor([1.1176], device='cuda:0') % Error:  tensor([5.3334e-05], device='cuda:0', grad_fn=<DivBackward0>)\n",
      "Iteration:  60 RG lnZ:  tensor([1.1176], device='cuda:0', grad_fn=<DivBackward0>) Theory lnZ:  tensor([1.1176], device='cuda:0') % Error:  tensor([5.3334e-05], device='cuda:0', grad_fn=<DivBackward0>)\n",
      "Iteration:  70 RG lnZ:  tensor([1.1176], device='cuda:0', grad_fn=<DivBackward0>) Theory lnZ:  tensor([1.1176], device='cuda:0') % Error:  tensor([5.3334e-05], device='cuda:0', grad_fn=<DivBackward0>)\n",
      "Iteration:  80 RG lnZ:  tensor([1.1176], device='cuda:0', grad_fn=<DivBackward0>) Theory lnZ:  tensor([1.1176], device='cuda:0') % Error:  tensor([5.3334e-05], device='cuda:0', grad_fn=<DivBackward0>)\n",
      "Iteration:  90 RG lnZ:  tensor([1.1176], device='cuda:0', grad_fn=<DivBackward0>) Theory lnZ:  tensor([1.1176], device='cuda:0') % Error:  tensor([5.3334e-05], device='cuda:0', grad_fn=<DivBackward0>)\n",
      "Completed  100  iterations of renormalization\n",
      "Saving output to ./Ising2D-chi10-T_1.81535.pt...\n",
      "Renormalizing Ising2D\n",
      "Current lattice size: 1\tCurrent iterations: 0\n",
      "Saving checkpoints every 5 steps\n",
      "Checkpoint will in saved at ./Ising2D-chi10-T_1.83387.pt\n",
      "Printing logs every 10 steps\n",
      "Iteration:  0 RG lnZ:  tensor([2.5013], device='cuda:0', grad_fn=<DivBackward0>) Theory lnZ:  tensor([1.1073], device='cuda:0') % Error:  tensor([55.7312], device='cuda:0', grad_fn=<DivBackward0>)\n",
      "Iteration:  10 RG lnZ:  tensor([1.1080], device='cuda:0', grad_fn=<DivBackward0>) Theory lnZ:  tensor([1.1073], device='cuda:0') % Error:  tensor([0.0611], device='cuda:0', grad_fn=<DivBackward0>)\n",
      "Iteration:  20 RG lnZ:  tensor([1.1073], device='cuda:0', grad_fn=<DivBackward0>) Theory lnZ:  tensor([1.1073], device='cuda:0') % Error:  tensor([2.1532e-05], device='cuda:0', grad_fn=<DivBackward0>)\n",
      "Iteration:  30 RG lnZ:  tensor([1.1073], device='cuda:0', grad_fn=<DivBackward0>) Theory lnZ:  tensor([1.1073], device='cuda:0') % Error:  tensor([4.3063e-05], device='cuda:0', grad_fn=<DivBackward0>)\n",
      "Iteration:  40 RG lnZ:  tensor([1.1073], device='cuda:0', grad_fn=<DivBackward0>) Theory lnZ:  tensor([1.1073], device='cuda:0') % Error:  tensor([4.3063e-05], device='cuda:0', grad_fn=<DivBackward0>)\n",
      "Iteration:  50 RG lnZ:  tensor([1.1073], device='cuda:0', grad_fn=<DivBackward0>) Theory lnZ:  tensor([1.1073], device='cuda:0') % Error:  tensor([4.3063e-05], device='cuda:0', grad_fn=<DivBackward0>)\n",
      "Iteration:  60 RG lnZ:  tensor([1.1073], device='cuda:0', grad_fn=<DivBackward0>) Theory lnZ:  tensor([1.1073], device='cuda:0') % Error:  tensor([4.3063e-05], device='cuda:0', grad_fn=<DivBackward0>)\n",
      "Iteration:  70 RG lnZ:  tensor([1.1073], device='cuda:0', grad_fn=<DivBackward0>) Theory lnZ:  tensor([1.1073], device='cuda:0') % Error:  tensor([4.3063e-05], device='cuda:0', grad_fn=<DivBackward0>)\n",
      "Iteration:  80 RG lnZ:  tensor([1.1073], device='cuda:0', grad_fn=<DivBackward0>) Theory lnZ:  tensor([1.1073], device='cuda:0') % Error:  tensor([4.3063e-05], device='cuda:0', grad_fn=<DivBackward0>)\n",
      "Iteration:  90 RG lnZ:  tensor([1.1073], device='cuda:0', grad_fn=<DivBackward0>) Theory lnZ:  tensor([1.1073], device='cuda:0') % Error:  tensor([4.3063e-05], device='cuda:0', grad_fn=<DivBackward0>)\n",
      "Completed  100  iterations of renormalization\n",
      "Saving output to ./Ising2D-chi10-T_1.83387.pt...\n",
      "Renormalizing Ising2D\n",
      "Current lattice size: 1\tCurrent iterations: 0\n",
      "Saving checkpoints every 5 steps\n",
      "Checkpoint will in saved at ./Ising2D-chi10-T_1.85240.pt\n",
      "Printing logs every 10 steps\n",
      "Iteration:  0 RG lnZ:  tensor([2.4850], device='cuda:0', grad_fn=<DivBackward0>) Theory lnZ:  tensor([1.0973], device='cuda:0') % Error:  tensor([55.8436], device='cuda:0', grad_fn=<DivBackward0>)\n",
      "Iteration:  10 RG lnZ:  tensor([1.0979], device='cuda:0', grad_fn=<DivBackward0>) Theory lnZ:  tensor([1.0973], device='cuda:0') % Error:  tensor([0.0616], device='cuda:0', grad_fn=<DivBackward0>)\n",
      "Iteration:  20 RG lnZ:  tensor([1.0973], device='cuda:0', grad_fn=<DivBackward0>) Theory lnZ:  tensor([1.0973], device='cuda:0') % Error:  tensor([3.2593e-05], device='cuda:0', grad_fn=<DivBackward0>)\n",
      "Iteration:  30 RG lnZ:  tensor([1.0973], device='cuda:0', grad_fn=<DivBackward0>) Theory lnZ:  tensor([1.0973], device='cuda:0') % Error:  tensor([3.2593e-05], device='cuda:0', grad_fn=<DivBackward0>)\n",
      "Iteration:  40 RG lnZ:  tensor([1.0973], device='cuda:0', grad_fn=<DivBackward0>) Theory lnZ:  tensor([1.0973], device='cuda:0') % Error:  tensor([3.2593e-05], device='cuda:0', grad_fn=<DivBackward0>)\n",
      "Iteration:  50 RG lnZ:  tensor([1.0973], device='cuda:0', grad_fn=<DivBackward0>) Theory lnZ:  tensor([1.0973], device='cuda:0') % Error:  tensor([3.2593e-05], device='cuda:0', grad_fn=<DivBackward0>)\n",
      "Iteration:  60 RG lnZ:  tensor([1.0973], device='cuda:0', grad_fn=<DivBackward0>) Theory lnZ:  tensor([1.0973], device='cuda:0') % Error:  tensor([3.2593e-05], device='cuda:0', grad_fn=<DivBackward0>)\n",
      "Iteration:  70 RG lnZ:  tensor([1.0973], device='cuda:0', grad_fn=<DivBackward0>) Theory lnZ:  tensor([1.0973], device='cuda:0') % Error:  tensor([3.2593e-05], device='cuda:0', grad_fn=<DivBackward0>)\n",
      "Iteration:  80 RG lnZ:  tensor([1.0973], device='cuda:0', grad_fn=<DivBackward0>) Theory lnZ:  tensor([1.0973], device='cuda:0') % Error:  tensor([3.2593e-05], device='cuda:0', grad_fn=<DivBackward0>)\n",
      "Iteration:  90 RG lnZ:  tensor([1.0973], device='cuda:0', grad_fn=<DivBackward0>) Theory lnZ:  tensor([1.0973], device='cuda:0') % Error:  tensor([3.2593e-05], device='cuda:0', grad_fn=<DivBackward0>)\n",
      "Completed  100  iterations of renormalization\n",
      "Saving output to ./Ising2D-chi10-T_1.85240.pt...\n"
     ]
    },
    {
     "ename": "KeyboardInterrupt",
     "evalue": "",
     "output_type": "error",
     "traceback": [
      "\u001b[1;31m---------------------------------------------------------------------------\u001b[0m",
      "\u001b[1;31mKeyboardInterrupt\u001b[0m                         Traceback (most recent call last)",
      "Cell \u001b[1;32mIn[4], line 12\u001b[0m\n\u001b[0;32m     10\u001b[0m hotrg\u001b[38;5;241m.\u001b[39mrun(\u001b[38;5;241m100\u001b[39m)\n\u001b[0;32m     11\u001b[0m F \u001b[38;5;241m=\u001b[39m hotrg\u001b[38;5;241m.\u001b[39mget_lnZ()\n\u001b[1;32m---> 12\u001b[0m \u001b[43mF\u001b[49m\u001b[38;5;241;43m.\u001b[39;49m\u001b[43mbackward\u001b[49m\u001b[43m(\u001b[49m\u001b[43m)\u001b[49m\n\u001b[0;32m     13\u001b[0m dlnZdT\u001b[38;5;241m.\u001b[39mappend(temp\u001b[38;5;241m.\u001b[39mgrad)\n",
      "File \u001b[1;32mc:\\Users\\timot\\miniconda3\\envs\\tensornet\\Lib\\site-packages\\torch\\_tensor.py:572\u001b[0m, in \u001b[0;36mTensor.backward\u001b[1;34m(self, gradient, retain_graph, create_graph, inputs)\u001b[0m\n\u001b[0;32m    528\u001b[0m \u001b[38;5;250m\u001b[39m\u001b[38;5;124mr\u001b[39m\u001b[38;5;124;03m\"\"\"Computes the gradient of current tensor wrt graph leaves.\u001b[39;00m\n\u001b[0;32m    529\u001b[0m \n\u001b[0;32m    530\u001b[0m \u001b[38;5;124;03mThe graph is differentiated using the chain rule. If the tensor is\u001b[39;00m\n\u001b[1;32m   (...)\u001b[0m\n\u001b[0;32m    569\u001b[0m \u001b[38;5;124;03m        used to compute the :attr:`tensors`.\u001b[39;00m\n\u001b[0;32m    570\u001b[0m \u001b[38;5;124;03m\"\"\"\u001b[39;00m\n\u001b[0;32m    571\u001b[0m \u001b[38;5;28;01mif\u001b[39;00m has_torch_function_unary(\u001b[38;5;28mself\u001b[39m):\n\u001b[1;32m--> 572\u001b[0m     \u001b[38;5;28;01mreturn\u001b[39;00m \u001b[43mhandle_torch_function\u001b[49m\u001b[43m(\u001b[49m\n\u001b[0;32m    573\u001b[0m \u001b[43m        \u001b[49m\u001b[43mTensor\u001b[49m\u001b[38;5;241;43m.\u001b[39;49m\u001b[43mbackward\u001b[49m\u001b[43m,\u001b[49m\n\u001b[0;32m    574\u001b[0m \u001b[43m        \u001b[49m\u001b[43m(\u001b[49m\u001b[38;5;28;43mself\u001b[39;49m\u001b[43m,\u001b[49m\u001b[43m)\u001b[49m\u001b[43m,\u001b[49m\n\u001b[0;32m    575\u001b[0m \u001b[43m        \u001b[49m\u001b[38;5;28;43mself\u001b[39;49m\u001b[43m,\u001b[49m\n\u001b[0;32m    576\u001b[0m \u001b[43m        \u001b[49m\u001b[43mgradient\u001b[49m\u001b[38;5;241;43m=\u001b[39;49m\u001b[43mgradient\u001b[49m\u001b[43m,\u001b[49m\n\u001b[0;32m    577\u001b[0m \u001b[43m        \u001b[49m\u001b[43mretain_graph\u001b[49m\u001b[38;5;241;43m=\u001b[39;49m\u001b[43mretain_graph\u001b[49m\u001b[43m,\u001b[49m\n\u001b[0;32m    578\u001b[0m \u001b[43m        \u001b[49m\u001b[43mcreate_graph\u001b[49m\u001b[38;5;241;43m=\u001b[39;49m\u001b[43mcreate_graph\u001b[49m\u001b[43m,\u001b[49m\n\u001b[0;32m    579\u001b[0m \u001b[43m        \u001b[49m\u001b[43minputs\u001b[49m\u001b[38;5;241;43m=\u001b[39;49m\u001b[43minputs\u001b[49m\u001b[43m,\u001b[49m\n\u001b[0;32m    580\u001b[0m \u001b[43m    \u001b[49m\u001b[43m)\u001b[49m\n\u001b[0;32m    581\u001b[0m torch\u001b[38;5;241m.\u001b[39mautograd\u001b[38;5;241m.\u001b[39mbackward(\n\u001b[0;32m    582\u001b[0m     \u001b[38;5;28mself\u001b[39m, gradient, retain_graph, create_graph, inputs\u001b[38;5;241m=\u001b[39minputs\n\u001b[0;32m    583\u001b[0m )\n",
      "File \u001b[1;32mc:\\Users\\timot\\miniconda3\\envs\\tensornet\\Lib\\site-packages\\torch\\overrides.py:1717\u001b[0m, in \u001b[0;36mhandle_torch_function\u001b[1;34m(public_api, relevant_args, *args, **kwargs)\u001b[0m\n\u001b[0;32m   1713\u001b[0m \u001b[38;5;28;01mif\u001b[39;00m _is_torch_function_mode_enabled():\n\u001b[0;32m   1714\u001b[0m     \u001b[38;5;66;03m# if we're here, the mode must be set to a TorchFunctionStackMode\u001b[39;00m\n\u001b[0;32m   1715\u001b[0m     \u001b[38;5;66;03m# this unsets it and calls directly into TorchFunctionStackMode's torch function\u001b[39;00m\n\u001b[0;32m   1716\u001b[0m     \u001b[38;5;28;01mwith\u001b[39;00m _pop_mode_temporarily() \u001b[38;5;28;01mas\u001b[39;00m mode:\n\u001b[1;32m-> 1717\u001b[0m         result \u001b[38;5;241m=\u001b[39m \u001b[43mmode\u001b[49m\u001b[38;5;241;43m.\u001b[39;49m\u001b[43m__torch_function__\u001b[49m\u001b[43m(\u001b[49m\u001b[43mpublic_api\u001b[49m\u001b[43m,\u001b[49m\u001b[43m \u001b[49m\u001b[43mtypes\u001b[49m\u001b[43m,\u001b[49m\u001b[43m \u001b[49m\u001b[43margs\u001b[49m\u001b[43m,\u001b[49m\u001b[43m \u001b[49m\u001b[43mkwargs\u001b[49m\u001b[43m)\u001b[49m\n\u001b[0;32m   1718\u001b[0m     \u001b[38;5;28;01mif\u001b[39;00m result \u001b[38;5;129;01mis\u001b[39;00m \u001b[38;5;129;01mnot\u001b[39;00m \u001b[38;5;28mNotImplemented\u001b[39m:\n\u001b[0;32m   1719\u001b[0m         \u001b[38;5;28;01mreturn\u001b[39;00m result\n",
      "File \u001b[1;32mc:\\Users\\timot\\miniconda3\\envs\\tensornet\\Lib\\site-packages\\torch\\utils\\_device.py:106\u001b[0m, in \u001b[0;36mDeviceContext.__torch_function__\u001b[1;34m(self, func, types, args, kwargs)\u001b[0m\n\u001b[0;32m    104\u001b[0m \u001b[38;5;28;01mif\u001b[39;00m func \u001b[38;5;129;01min\u001b[39;00m _device_constructors() \u001b[38;5;129;01mand\u001b[39;00m kwargs\u001b[38;5;241m.\u001b[39mget(\u001b[38;5;124m'\u001b[39m\u001b[38;5;124mdevice\u001b[39m\u001b[38;5;124m'\u001b[39m) \u001b[38;5;129;01mis\u001b[39;00m \u001b[38;5;28;01mNone\u001b[39;00m:\n\u001b[0;32m    105\u001b[0m     kwargs[\u001b[38;5;124m'\u001b[39m\u001b[38;5;124mdevice\u001b[39m\u001b[38;5;124m'\u001b[39m] \u001b[38;5;241m=\u001b[39m \u001b[38;5;28mself\u001b[39m\u001b[38;5;241m.\u001b[39mdevice\n\u001b[1;32m--> 106\u001b[0m \u001b[38;5;28;01mreturn\u001b[39;00m \u001b[43mfunc\u001b[49m\u001b[43m(\u001b[49m\u001b[38;5;241;43m*\u001b[39;49m\u001b[43margs\u001b[49m\u001b[43m,\u001b[49m\u001b[43m \u001b[49m\u001b[38;5;241;43m*\u001b[39;49m\u001b[38;5;241;43m*\u001b[39;49m\u001b[43mkwargs\u001b[49m\u001b[43m)\u001b[49m\n",
      "File \u001b[1;32mc:\\Users\\timot\\miniconda3\\envs\\tensornet\\Lib\\site-packages\\torch\\_tensor.py:581\u001b[0m, in \u001b[0;36mTensor.backward\u001b[1;34m(self, gradient, retain_graph, create_graph, inputs)\u001b[0m\n\u001b[0;32m    571\u001b[0m \u001b[38;5;28;01mif\u001b[39;00m has_torch_function_unary(\u001b[38;5;28mself\u001b[39m):\n\u001b[0;32m    572\u001b[0m     \u001b[38;5;28;01mreturn\u001b[39;00m handle_torch_function(\n\u001b[0;32m    573\u001b[0m         Tensor\u001b[38;5;241m.\u001b[39mbackward,\n\u001b[0;32m    574\u001b[0m         (\u001b[38;5;28mself\u001b[39m,),\n\u001b[1;32m   (...)\u001b[0m\n\u001b[0;32m    579\u001b[0m         inputs\u001b[38;5;241m=\u001b[39minputs,\n\u001b[0;32m    580\u001b[0m     )\n\u001b[1;32m--> 581\u001b[0m \u001b[43mtorch\u001b[49m\u001b[38;5;241;43m.\u001b[39;49m\u001b[43mautograd\u001b[49m\u001b[38;5;241;43m.\u001b[39;49m\u001b[43mbackward\u001b[49m\u001b[43m(\u001b[49m\n\u001b[0;32m    582\u001b[0m \u001b[43m    \u001b[49m\u001b[38;5;28;43mself\u001b[39;49m\u001b[43m,\u001b[49m\u001b[43m \u001b[49m\u001b[43mgradient\u001b[49m\u001b[43m,\u001b[49m\u001b[43m \u001b[49m\u001b[43mretain_graph\u001b[49m\u001b[43m,\u001b[49m\u001b[43m \u001b[49m\u001b[43mcreate_graph\u001b[49m\u001b[43m,\u001b[49m\u001b[43m \u001b[49m\u001b[43minputs\u001b[49m\u001b[38;5;241;43m=\u001b[39;49m\u001b[43minputs\u001b[49m\n\u001b[0;32m    583\u001b[0m \u001b[43m\u001b[49m\u001b[43m)\u001b[49m\n",
      "File \u001b[1;32mc:\\Users\\timot\\miniconda3\\envs\\tensornet\\Lib\\site-packages\\torch\\autograd\\__init__.py:347\u001b[0m, in \u001b[0;36mbackward\u001b[1;34m(tensors, grad_tensors, retain_graph, create_graph, grad_variables, inputs)\u001b[0m\n\u001b[0;32m    342\u001b[0m     retain_graph \u001b[38;5;241m=\u001b[39m create_graph\n\u001b[0;32m    344\u001b[0m \u001b[38;5;66;03m# The reason we repeat the same comment below is that\u001b[39;00m\n\u001b[0;32m    345\u001b[0m \u001b[38;5;66;03m# some Python versions print out the first line of a multi-line function\u001b[39;00m\n\u001b[0;32m    346\u001b[0m \u001b[38;5;66;03m# calls in the traceback and some print out the last line\u001b[39;00m\n\u001b[1;32m--> 347\u001b[0m \u001b[43m_engine_run_backward\u001b[49m\u001b[43m(\u001b[49m\n\u001b[0;32m    348\u001b[0m \u001b[43m    \u001b[49m\u001b[43mtensors\u001b[49m\u001b[43m,\u001b[49m\n\u001b[0;32m    349\u001b[0m \u001b[43m    \u001b[49m\u001b[43mgrad_tensors_\u001b[49m\u001b[43m,\u001b[49m\n\u001b[0;32m    350\u001b[0m \u001b[43m    \u001b[49m\u001b[43mretain_graph\u001b[49m\u001b[43m,\u001b[49m\n\u001b[0;32m    351\u001b[0m \u001b[43m    \u001b[49m\u001b[43mcreate_graph\u001b[49m\u001b[43m,\u001b[49m\n\u001b[0;32m    352\u001b[0m \u001b[43m    \u001b[49m\u001b[43minputs\u001b[49m\u001b[43m,\u001b[49m\n\u001b[0;32m    353\u001b[0m \u001b[43m    \u001b[49m\u001b[43mallow_unreachable\u001b[49m\u001b[38;5;241;43m=\u001b[39;49m\u001b[38;5;28;43;01mTrue\u001b[39;49;00m\u001b[43m,\u001b[49m\n\u001b[0;32m    354\u001b[0m \u001b[43m    \u001b[49m\u001b[43maccumulate_grad\u001b[49m\u001b[38;5;241;43m=\u001b[39;49m\u001b[38;5;28;43;01mTrue\u001b[39;49;00m\u001b[43m,\u001b[49m\n\u001b[0;32m    355\u001b[0m \u001b[43m\u001b[49m\u001b[43m)\u001b[49m\n",
      "File \u001b[1;32mc:\\Users\\timot\\miniconda3\\envs\\tensornet\\Lib\\site-packages\\torch\\autograd\\graph.py:825\u001b[0m, in \u001b[0;36m_engine_run_backward\u001b[1;34m(t_outputs, *args, **kwargs)\u001b[0m\n\u001b[0;32m    823\u001b[0m     unregister_hooks \u001b[38;5;241m=\u001b[39m _register_logging_hooks_on_whole_graph(t_outputs)\n\u001b[0;32m    824\u001b[0m \u001b[38;5;28;01mtry\u001b[39;00m:\n\u001b[1;32m--> 825\u001b[0m     \u001b[38;5;28;01mreturn\u001b[39;00m \u001b[43mVariable\u001b[49m\u001b[38;5;241;43m.\u001b[39;49m\u001b[43m_execution_engine\u001b[49m\u001b[38;5;241;43m.\u001b[39;49m\u001b[43mrun_backward\u001b[49m\u001b[43m(\u001b[49m\u001b[43m  \u001b[49m\u001b[38;5;66;43;03m# Calls into the C++ engine to run the backward pass\u001b[39;49;00m\n\u001b[0;32m    826\u001b[0m \u001b[43m        \u001b[49m\u001b[43mt_outputs\u001b[49m\u001b[43m,\u001b[49m\u001b[43m \u001b[49m\u001b[38;5;241;43m*\u001b[39;49m\u001b[43margs\u001b[49m\u001b[43m,\u001b[49m\u001b[43m \u001b[49m\u001b[38;5;241;43m*\u001b[39;49m\u001b[38;5;241;43m*\u001b[39;49m\u001b[43mkwargs\u001b[49m\n\u001b[0;32m    827\u001b[0m \u001b[43m    \u001b[49m\u001b[43m)\u001b[49m  \u001b[38;5;66;03m# Calls into the C++ engine to run the backward pass\u001b[39;00m\n\u001b[0;32m    828\u001b[0m \u001b[38;5;28;01mfinally\u001b[39;00m:\n\u001b[0;32m    829\u001b[0m     \u001b[38;5;28;01mif\u001b[39;00m attach_logging_hooks:\n",
      "\u001b[1;31mKeyboardInterrupt\u001b[0m: "
     ]
    }
   ],
   "source": [
    "import numpy as np\n",
    "Tc = models.Ising2D.Tc\n",
    "dlnZdT= []\n",
    "for T in np.linspace(0.8*Tc,1.2*Tc,50):\n",
    "  with torch.autograd.detect_anomaly():\n",
    "    temp = torch.Tensor([T]).to(device)\n",
    "    temp.requires_grad_()\n",
    "    model = models.Ising2D(temp)\n",
    "    hotrg = hotrg_torch.HOTRG(model,10)\n",
    "    hotrg.run(100)\n",
    "    F = hotrg.get_lnZ()\n",
    "    F.backward()\n",
    "    dlnZdT.append(temp.grad)"
   ]
  },
  {
   "cell_type": "code",
   "execution_count": null,
   "metadata": {},
   "outputs": [
    {
     "name": "stderr",
     "output_type": "stream",
     "text": [
      "C:\\Users\\timot\\AppData\\Local\\Temp\\ipykernel_29992\\2467129691.py:1: FutureWarning: You are using `torch.load` with `weights_only=False` (the current default value), which uses the default pickle module implicitly. It is possible to construct malicious pickle data which will execute arbitrary code during unpickling (See https://github.com/pytorch/pytorch/blob/main/SECURITY.md#untrusted-models for more details). In a future release, the default value for `weights_only` will be flipped to `True`. This limits the functions that could be executed during unpickling. Arbitrary objects will no longer be allowed to be loaded via this mode unless they are explicitly allowlisted by the user via `torch.serialization.add_safe_globals`. We recommend you start setting `weights_only=True` for any use case where you don't have full control of the loaded file. Please open an issue on GitHub for any issues related to this experimental feature.\n",
      "  result = torch.load('./Ising2D-chi10-T_2.14975.pt')\n"
     ]
    }
   ],
   "source": [
    "result = torch.load('./Ising2D-chi10-T_2.14975.pt')"
   ]
  },
  {
   "cell_type": "code",
   "execution_count": null,
   "metadata": {},
   "outputs": [],
   "source": [
    "result['']"
   ]
  },
  {
   "cell_type": "code",
   "execution_count": 19,
   "metadata": {},
   "outputs": [],
   "source": [
    "dlnZdT\n",
    "E = np.array([val.detach().cpu().item() for val in dlnZdT])\n",
    "T = np.linspace(0.8*Tc,1.2*Tc,20)\n",
    "E = T**2 *E"
   ]
  },
  {
   "cell_type": "code",
   "execution_count": 20,
   "metadata": {},
   "outputs": [],
   "source": [
    "import matplotlib\n",
    "import matplotlib.pyplot as plt"
   ]
  },
  {
   "cell_type": "code",
   "execution_count": 21,
   "metadata": {},
   "outputs": [
    {
     "data": {
      "text/plain": [
       "array([-1.85243418, -1.8293062 , -1.80328562, -1.77397469, -1.74086406,\n",
       "       -1.70326347, -1.6601835 , -1.6100655 , -1.55002701, -1.47265495,\n",
       "       -1.3558141 , -1.27795803, -1.21695132, -1.16525146, -1.11995633,\n",
       "       -1.07948786, -1.04285917, -1.00938541, -0.97857217, -0.95004255])"
      ]
     },
     "execution_count": 21,
     "metadata": {},
     "output_type": "execute_result"
    }
   ],
   "source": [
    "E"
   ]
  },
  {
   "cell_type": "code",
   "execution_count": 24,
   "metadata": {},
   "outputs": [
    {
     "data": {
      "text/plain": [
       "[<matplotlib.lines.Line2D at 0x21079a7bf10>]"
      ]
     },
     "execution_count": 24,
     "metadata": {},
     "output_type": "execute_result"
    },
    {
     "data": {
      "image/png": "[encoded data removed]",
      "text/plain": [
       "<Figure size 640x480 with 1 Axes>"
      ]
     },
     "metadata": {},
     "output_type": "display_data"
    }
   ],
   "source": [
    "plt.plot(1/T,E,marker='o')"
   ]
  },
  {
   "cell_type": "code",
   "execution_count": null,
   "metadata": {},
   "outputs": [],
   "source": []
  }
 ],
 "metadata": {
  "kernelspec": {
   "display_name": "tensornet",
   "language": "python",
   "name": "python3"
  },
  "language_info": {
   "codemirror_mode": {
    "name": "ipython",
    "version": 3
   },
   "file_extension": ".py",
   "mimetype": "text/x-python",
   "name": "python",
   "nbconvert_exporter": "python",
   "pygments_lexer": "ipython3",
   "version": "3.11.10"
  }
 },
 "nbformat": 4,
 "nbformat_minor": 2
}
